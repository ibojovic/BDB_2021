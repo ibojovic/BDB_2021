{
  "metadata": {
    "kernelspec": {
      "name": "python",
      "display_name": "Python (Pyodide)",
      "language": "python"
    },
    "language_info": {
      "codemirror_mode": {
        "name": "python",
        "version": 3
      },
      "file_extension": ".py",
      "mimetype": "text/x-python",
      "name": "python",
      "nbconvert_exporter": "python",
      "pygments_lexer": "ipython3",
      "version": "3.8"
    }
  },
  "nbformat_minor": 4,
  "nbformat": 4,
  "cells": [
    {
      "cell_type": "markdown",
      "source": "### NoSQL databases\n",
      "metadata": {}
    },
    {
      "cell_type": "markdown",
      "source": "### Install the redis module",
      "metadata": {
        "tags": []
      }
    },
    {
      "cell_type": "code",
      "source": "! pip install redis",
      "metadata": {},
      "outputs": [],
      "execution_count": null
    },
    {
      "cell_type": "code",
      "source": "import redis\nr = redis.Redis(host=\"my_redis\")\nprint(r.ping())",
      "metadata": {},
      "outputs": [],
      "execution_count": null
    },
    {
      "cell_type": "code",
      "source": "r.set('temperature', 18.5)",
      "metadata": {},
      "outputs": [],
      "execution_count": null
    },
    {
      "cell_type": "markdown",
      "source": "Python by default redis returns strings as _bytes_ (indicated by the _b_ letter before the number in the output):",
      "metadata": {}
    },
    {
      "cell_type": "code",
      "source": "r.get('temperature')",
      "metadata": {},
      "outputs": [],
      "execution_count": null
    },
    {
      "cell_type": "markdown",
      "source": "Convert bytes to strings using _decode_. You could also connect to the Redis server using the parameter _decode_responses=True_ to have all output automatically converted to strings.",
      "metadata": {}
    },
    {
      "cell_type": "code",
      "source": "r.get('temperature').decode()",
      "metadata": {},
      "outputs": [],
      "execution_count": null
    },
    {
      "cell_type": "markdown",
      "source": "### Time-To-Live applied to keys",
      "metadata": {}
    },
    {
      "cell_type": "code",
      "source": "import time\nr.flushall() # delete ALL keys in the DB\nTTL = 5\nr.set('temperature', 18.5)\nr.expire('temperature', TTL)  # the key will be deleted after TTL seconds\nprint(\"Temperature =\", r.get('temperature'))\nprint(\"now sleeping for %s seconds...\" % (TTL))\ntime.sleep(TTL)\nprint(\"Temperature =\", r.get('temperature'))",
      "metadata": {},
      "outputs": [],
      "execution_count": null
    },
    {
      "cell_type": "markdown",
      "source": "## Working with some Redis types",
      "metadata": {}
    },
    {
      "cell_type": "code",
      "source": "r.flushall()  # delete ALL keys in the DB\n\n# string or number\nr.set('Temperature', 18.5)\n\n# list, passing a python list\nmales = ['Peter', 'Paul', 'John']\nr.lpush('Male_names', *males)\n# create a Redis list passing an explicit list of strings to lpush\nr.lpush('Female_names', 'Sarah', 'Mary', 'Elizabeth')\n\n# set, passing a python set\nchapters = {'Chapter 1', 'Chapter 2'}\nr.sadd('Chapters1:2', *chapters)\n# create a Redis set passing an explicit list of strings to sadd\nr.sadd('Chapters3:4', 'Chapter 3', 'Chapter 4')\n\n# hash (corresponding to a Python dictionary)\nmy_dict = {'buongiorno':'buenos dias', 'buonasera':'buenas noches'}\nr.hset('Italian:Spanish', mapping=my_dict)\n\n# get the different data types from Redis\nprint('STRING type in Redis') \nprint('  Key: %s --> Value: %s' % ('Temperature', r.get('Temperature')))\n\nprint('LIST type in Redis')\nprint('  Key: %s --> Value: %s' % ('Male_names', r.lrange('Male_names', start=0, end=-1)))\nprint('  Key: %s --> Value: %s' % ('Female_names', r.lrange('Female_names', start=0, end=-1)))\n\nprint('SET type in Redis')\nprint('  Key: %s --> Value: %s' % ('Chapters1:2', r.smembers('Chapters1:2')))\nprint('  Key: %s --> Value: %s' % ('Chapters3:4', r.smembers('Chapters3:4')))\n\nprint('HASH type in Redis')\nprint('  Key: %s --> Value: %s' % ('Italian:Spanish', r.hgetall('Italian:Spanish')))",
      "metadata": {},
      "outputs": [],
      "execution_count": null
    },
    {
      "cell_type": "markdown",
      "source": "### Sorted sets",
      "metadata": {}
    },
    {
      "cell_type": "code",
      "source": "r.flushall()  # delete ALL keys in the DB",
      "metadata": {},
      "outputs": [],
      "execution_count": null
    },
    {
      "cell_type": "code",
      "source": "# create a sorted set with key 'universities'\nr.zadd('universities', {'MIT':100, 'Stanford':98.4, 'Harvard':97.9, 'Caltech':97, 'Oxford':96.7})",
      "metadata": {},
      "outputs": [],
      "execution_count": null
    },
    {
      "cell_type": "code",
      "source": "# print the sorted set in ascending order\nr.zrange('universities', start=0, end=-1)",
      "metadata": {},
      "outputs": [],
      "execution_count": null
    },
    {
      "cell_type": "code",
      "source": "# print the sorted set in descending order\nr.zrange('universities', start=0, end=-1, desc=True)",
      "metadata": {},
      "outputs": [],
      "execution_count": null
    },
    {
      "cell_type": "code",
      "source": "# print the sorted set in descending order, including also the score associated to each element\nr.zrange('universities', start=0, end=-1, desc=True, withscores=True)",
      "metadata": {},
      "outputs": [],
      "execution_count": null
    },
    {
      "cell_type": "code",
      "source": "# print the universities with a score between 97 and 98\nr.zrange('universities', start=97, end=98, withscores=True, byscore=True)",
      "metadata": {},
      "outputs": [],
      "execution_count": null
    },
    {
      "cell_type": "markdown",
      "source": "### Peformance measurements, using just _set()_ and _get()_\n\nSimple set and get of string items in Redis.",
      "metadata": {
        "tags": []
      }
    },
    {
      "cell_type": "code",
      "source": "import time\nr.flushall()  # delete ALL keys in the DB\n\nstart = time.time()\nN = 20000\nfor i in range(N):\n    key = \"key%s\" % i\n    value = \"value%s\" % i\n    r.set(key, value)\ndelta = time.time() - start\n\nprint(\"set: %d items in %.02f seconds\"% (N, delta), end=' ')\nprint(\"(%.02f items/sec)\" % (N/delta))\n\nstart = time.time()\nN = 20000\nfor i in range(N):\n    key = \"key%s\" % i\n    value = r.get(key)\ndelta = time.time() - start\n\nprint(\"get: %d items in %.02f seconds\"% (N, delta), end=' ')\nprint(\"(%.02f items/sec)\" % (N/delta))",
      "metadata": {},
      "outputs": [],
      "execution_count": null
    },
    {
      "cell_type": "markdown",
      "source": "### Performance measurements, using pipelines\n\nA marked improvement (more than an order of magnitude) can be had with _pipelines_.",
      "metadata": {}
    },
    {
      "cell_type": "code",
      "source": "import time\nr.flushall()  # delete ALL keys in the DB\n\nstart = time.time()\npipe = r.pipeline()\nN = 20000\nfor i in range(N):\n    key = \"key%s\" % i\n    value = \"value%s\" % i\n    pipe.set(key, value)\npipe.execute()\ndelta = time.time() - start\n\nprint(\"set: %d items in %.02f seconds\"% (N, delta), end=' ')\nprint(\"(%.02f items/sec)\" % (N/delta))\n\nstart = time.time()\npipe = r.pipeline()\nN = 20000\nfor i in range(N):\n    key = \"key%s\" % i\n    value = pipe.get(key)\npipe.execute()\ndelta = time.time() - start\n\nprint(\"get: %d items in %.02f seconds\"% (N, delta), end=' ')\nprint(\"(%.02f items/sec)\" % (N/delta))",
      "metadata": {},
      "outputs": [],
      "execution_count": null
    },
    {
      "cell_type": "markdown",
      "source": "### Performance measurements, comparison with SQLite\n\nSQLite performs better than the Redis pipeline above. ",
      "metadata": {}
    },
    {
      "cell_type": "code",
      "source": "import sqlite3 as sql\nconn = sql.connect('test_perf.sqlite')\ncur = conn.cursor()\ncur.execute('''DROP TABLE IF EXISTS Performance;''')\ncur.execute('''CREATE TABLE Performance(\n                key TEXT NOT NULL UNIQUE,\n                value TEXT NOT NULL);\n            ''')\nconn.commit()\nconn.close()\n\nstart = time.time()\nconn = sql.connect('test_perf.sqlite')\ncur = conn.cursor()\nN = 20000\nfor i in range(N):\n    key = \"key%s\" % i\n    value = \"value%s\" % i\n    cur.execute('''INSERT INTO Performance VALUES(?, ?)''', (key,value))\nconn.commit()\nconn.close()\ndelta = time.time() - start\n\nprint(\"SQLite set: %d items in %.02f seconds\"% (N, delta), end=' ')\nprint(\"(%.02f items/sec)\" % (N/delta))\n\nstart = time.time()\nconn = sql.connect('test_perf.sqlite')\ncur = conn.cursor()\ncur.execute('''SELECT * from Performance''')\nresults = cur.fetchall()\nfor res in results:\n    (key, value) = res\nconn.close()\ndelta = time.time() - start\n\nprint(\"SQLite get: %d items in %.02f seconds\"% (N, delta), end=' ')\nprint(\"(%.02f items/sec)\" % (N/delta))",
      "metadata": {},
      "outputs": [],
      "execution_count": null
    },
    {
      "cell_type": "markdown",
      "source": "### Performance measurements, using _mset()_ and _mget()_\n\nHowever, with some usage of Redis built-in features (the _mset_ command to set multiple values), Redis outperforms SQLite. ",
      "metadata": {}
    },
    {
      "cell_type": "code",
      "source": "import time\nr.flushall()  # delete ALL keys in the DB\n\nstart = time.time()\nN = 20000\nmy_dict = {\"key%s\" % i: \"value%s\" % i for i in range(N)}\nr.mset(my_dict)\ndelta = time.time() - start\n\nprint(\"mset: %d items in %.02f seconds\"% (N, delta), end=' ')\nprint(\"(%.02f items/sec)\" % (N/delta))\n\nstart = time.time()\nN = 20000\nkeys = [\"key%s\" % i for i in range(N)]\nvalues = r.mget(keys)\nresults = list(zip(keys, values))\ndelta = time.time() - start\n\nprint(\"mget: %d items in %.02f seconds\"% (N, delta), end=' ')\nprint(\"(%.02f items/sec)\" % (N/delta))",
      "metadata": {},
      "outputs": [],
      "execution_count": null
    },
    {
      "cell_type": "markdown",
      "source": "## Porting SQL to Redis\n\nMap a simple relational DB to Redis. Assume we have the following table in a relational DB:\n\n<img src=\"https://github.com/ibojovic/BDB_2021/raw/main/nosql/RDBMS_sample.png\" alt=\"A sample RDBMS table\" style=\"height: 120px;\"/>\n\nThe unique key is represented by the ID column.",
      "metadata": {}
    },
    {
      "cell_type": "code",
      "source": "# create several redis hashes, each one corresponding to an RDBMS row\nr.hset('id:1', mapping={'first':'John', 'last':'Doe', 'age': 21, 'email':'john@doe.com'})\nr.hset('id:2', mapping={'first':'Alice', 'last':'Doe', 'age': 22, 'email':'alice@doe.com'})\nr.hset('id:3', mapping={'first':'Rose', 'last':'Short', 'age': 21, 'email':'rose@short.com'})\n\n# the Redis equivalent to the SQL 'SELECT * FROM Students WHERE ID=1' would then be:\nr.hgetall('id:1')",
      "metadata": {},
      "outputs": [],
      "execution_count": null
    },
    {
      "cell_type": "code",
      "source": "# create a sorted set with ages, mapping them to the corresponding hash key above\nr.zadd('age', mapping={'id:1':21, 'id:2':22, 'id:3':21})\nprint(\"all elements:\", r.zrange('age', start=0, end=-1, withscores=True))",
      "metadata": {},
      "outputs": [],
      "execution_count": null
    },
    {
      "cell_type": "code",
      "source": "# the Redis equivalent to the SQL 'SELECT * FROM Students WHERE Age < 22' would then be:\nresult = r.zrange('age', start=0, end=21, byscore=True)\nprint(\"age<21:\", result)",
      "metadata": {},
      "outputs": [],
      "execution_count": null
    },
    {
      "cell_type": "code",
      "source": "# get all the info for the returned results:\nfor res in result:\n    print(r.hgetall(res))",
      "metadata": {},
      "outputs": [],
      "execution_count": null
    }
  ]
}