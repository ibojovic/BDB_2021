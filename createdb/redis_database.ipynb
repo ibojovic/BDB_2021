{
  "metadata": {
    "kernelspec": {
      "name": "python",
      "display_name": "Python (Pyodide)",
      "language": "python"
    },
    "language_info": {
      "codemirror_mode": {
        "name": "python",
        "version": 3
      },
      "file_extension": ".py",
      "mimetype": "text/x-python",
      "name": "python",
      "nbconvert_exporter": "python",
      "pygments_lexer": "ipython3",
      "version": "3.8"
    }
  },
  "nbformat_minor": 4,
  "nbformat": 4,
  "cells": [
    {
      "cell_type": "markdown",
      "source": "\n###  Create  Database\n## Install the redis module\n",
      "metadata": {}
    },
    {
      "cell_type": "code",
      "source": "! pip install redis",
      "metadata": {},
      "outputs": [],
      "execution_count": null
    },
    {
      "cell_type": "code",
      "source": "import redis\nr = redis.Redis(host=\"my_redis\")",
      "metadata": {},
      "outputs": [],
      "execution_count": null
    },
    {
      "cell_type": "code",
      "source": "try:\n    if r.ping():\n        print('Redis is running')\nexcept redis.ConnectionError:\n    print('Redis is NOT running')",
      "metadata": {},
      "outputs": [],
      "execution_count": null
    },
    {
      "cell_type": "markdown",
      "source": "## Verify how to map a Python dictionary to a Redis hash",
      "metadata": {}
    },
    {
      "cell_type": "code",
      "source": "# create a test Python dictionary\nmy_dict = {'one': 1, 'two': 2, 'three': 3, 'four': 4}\nprint(my_dict)",
      "metadata": {},
      "outputs": [],
      "execution_count": null
    },
    {
      "cell_type": "code",
      "source": "# create the hash \"numbers\" in redis\nr.hset('numbers', mapping=my_dict)\n\n# get the hash back from redis as a python dictionary\nnew_dict = r.hgetall('numbers')\nprint(new_dict)",
      "metadata": {},
      "outputs": [],
      "execution_count": null
    },
    {
      "cell_type": "code",
      "source": "# find all keys in the DB matching the expression '*umb*'\nmy_keys = r.keys('*umb*')\nprint(my_keys)",
      "metadata": {},
      "outputs": [],
      "execution_count": null
    },
    {
      "cell_type": "code",
      "source": "# delete the key 'numbers' from Redis\nr.delete('numbers')\n\n# confirm it is now deleted\nprint(r.hgetall('numbers'))",
      "metadata": {},
      "outputs": [],
      "execution_count": null
    },
    {
      "cell_type": "markdown",
      "source": "## Query PDB, Uniprot and store the results in Redis\n",
      "metadata": {}
    },
    {
      "cell_type": "code",
      "source": "import requests\npdb_query = '''\n{\n  entries(entry_ids: [\"4GYD\", \"1TU2\"]) {\n    entry {\n      id\n    }\n    rcsb_entry_info {\n      molecular_weight\n      deposited_atom_count\n      deposited_modeled_polymer_monomer_count\n    }\n    polymer_entities {\n      rcsb_entity_source_organism {\n        ncbi_scientific_name\n      }\n      uniprots {\n        rcsb_uniprot_container_identifiers {\n          uniprot_id\n        }\n        rcsb_uniprot_protein {\n          name {\n            value\n          }\n        }\n      }\n    }\n  }\n}\n'''\n# get the PDB data with GraphQL\np = requests.get('https://data.rcsb.org/graphql?query=%s' % requests.utils.requote_uri(pdb_query))\nj = p.json()",
      "metadata": {},
      "outputs": [],
      "execution_count": null
    },
    {
      "cell_type": "code",
      "source": "# which keys are there?\nj.keys()",
      "metadata": {},
      "outputs": [],
      "execution_count": null
    },
    {
      "cell_type": "code",
      "source": "# we will need to extract the values we need\nj['data']",
      "metadata": {},
      "outputs": [],
      "execution_count": null
    },
    {
      "cell_type": "code",
      "source": "# extract some macromolecule parameters\nfor prot in (j['data']['entries']):\n    # each entry corresponds to a single PDB ID\n    print(\"ID : \", prot['entry']['id'])\n    print(\"Macromolecule parameters:\")\n    print(\"  molecular weight (kDa); \", prot['rcsb_entry_info']['molecular_weight'])",
      "metadata": {},
      "outputs": [],
      "execution_count": null
    },
    {
      "cell_type": "code",
      "source": "# extract data and update the Redis database\n# start with a clean database (THIS WILL DELETE ALL EXISTING ENTRIES)\nr.flushall()\n# the print() statements below are for explanatory purposes\nfor protein in j['data']['entries']:\n    # parameters at the individual PDB entry level\n    pdb_id = protein['entry']['id']\n    print(\"PDB:\", pdb_id)\n    weight = protein['rcsb_entry_info']['molecular_weight']\n    atom_count = protein['rcsb_entry_info']['deposited_atom_count']\n    residue_count = protein['rcsb_entry_info']['deposited_modeled_polymer_monomer_count']\n    # store an entry (a hash) with the parameters above in Redis\n    # the key will be the PDB ID\n    pdb_dict = {'weight': weight, 'atom_count': atom_count, 'residue_count': residue_count}\n    r.hset(pdb_id, mapping=pdb_dict)\n    # update the PDB index\n    r.sadd('PDB:index', pdb_id)\n    for polymer in protein['polymer_entities']:\n        # parameters for the polymers\n        source_name = polymer['rcsb_entity_source_organism'][0]['ncbi_scientific_name']\n        for uprot in polymer['uniprots']:\n            # uniprot-related data\n            uprot_id = uprot['rcsb_uniprot_container_identifiers']['uniprot_id']\n            uprot_name = uprot['rcsb_uniprot_protein']['name']['value']\n            print(\"Uniprot:\", uprot_id, source_name, uprot_name)\n            # store an entry (a hash) with the source_name and uprot_name in Redis\n            # the key will be PDB_ID:UNIPROT_ID\n            key = '%s:%s' % (pdb_id, uprot_id)\n            r.hset(key, 'organism', source_name)\n            r.hset(key, 'name', uprot_name)\n            # update the Uniprot index\n            r.sadd('UNIPROT:index', uprot_id)\n            # call the uniprot REST API looking up uprot_id\n            uniprot_url = 'https://www.ebi.ac.uk/proteins/api/proteins?offset=0&size=10&accession=%s' % uprot_id\n            u = requests.get(uniprot_url, headers={\"Accept\" : \"application/json\"})\n            # the Gene Ontology information is stored in the 'dbReferences' structure (see slides)\n            db_info = u.json()[0]['dbReferences']\n            for db in db_info:\n                if db['type'] == 'GO':\n                    # it is a Gene Ontology entry\n                    go_id = db['id']\n                    go_term = db['properties']['term']\n                    go_source = db['properties']['source']\n                    print(go_id, go_term, go_source)\n                    # store an entry (a hash) with GO info in Redis\n                    # the key will be PDB_ID:UNIPROT_ID:GO_ID\n                    key = '%s:%s:%s' % (pdb_id, uprot_id, go_id)\n                    go_dict = {'go_term': go_term, 'go_source': go_source}\n                    r.hset(key, mapping=go_dict)\n",
      "metadata": {},
      "outputs": [],
      "execution_count": null
    },
    {
      "cell_type": "markdown",
      "source": "### Performing queries on the Redis database\n\nWe have created keys so that it is easy to perform queries. With the code above, we have created the following keys:\n- keys called <i>PBD_ID</i>, mapped to a _hash_ containing weight, atom count and residue count\n- keys called <i>PBD_ID:UNIPROT_ID</i>, mapped to a _hash_ containing the scientific name and the residue name\n- keys called <i>PBD_ID:UNIPROT_ID:GO_ID</i>, mapped to a _hash_ containing GO term and GO source\n- a single key called PBD:index, mapped to a _set_ with all the PDB IDs\n- a single key called UNIPROT:index, mapped to a _set_ with all the Uniprot IDs",
      "metadata": {
        "tags": []
      }
    },
    {
      "cell_type": "code",
      "source": "# all characteristics of a given PDB ID:\nr.hgetall('4GYD')",
      "metadata": {},
      "outputs": [],
      "execution_count": null
    },
    {
      "cell_type": "code",
      "source": "# all PDB IDs stored in the database:\nk = r.smembers('PDB:index')\nprint(k)",
      "metadata": {},
      "outputs": [],
      "execution_count": null
    },
    {
      "cell_type": "code",
      "source": "# all Uniprot IDs stored in the database:\nk = r.smembers('UNIPROT:index')\nprint(k)",
      "metadata": {},
      "outputs": [],
      "execution_count": null
    },
    {
      "cell_type": "code",
      "source": "# all GO entries for a certain Uniprot ID:\nk = r.keys('*:Q93SW9:GO:*')\nprint(k)",
      "metadata": {},
      "outputs": [],
      "execution_count": null
    },
    {
      "cell_type": "code",
      "source": "# all information about a certain Uniprot ID\n# and all information about its GO entries\nprint(r.hgetall('1TU2:Q93SW9'))\nfor k in r.keys('1TU2:Q93SW9:*'):\n    print(k, r.hgetall(k))",
      "metadata": {},
      "outputs": [],
      "execution_count": null
    },
    {
      "cell_type": "code",
      "source": "# in Redis by default entries are stored as \"bytes\"\n# before processing the return values we decode them to string\nr = redis.Redis(host=\"my_redis\")\nfor pdb in r.smembers('PDB:index'):\n    values = {k.decode():v.decode() for k,v in r.hgetall(pdb).items()}\n    print(\"PDB ID:\", pdb.decode())\n    print(\"  molecular weight (kDa):\", values['weight'])\n    print(\"  atom count:\", values['atom_count'])\n    print(\"  residue count:\", values['residue_count'])",
      "metadata": {},
      "outputs": [],
      "execution_count": null
    }
  ]
}
