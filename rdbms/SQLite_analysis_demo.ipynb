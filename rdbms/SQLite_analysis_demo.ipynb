{
  "metadata": {
    "kernelspec": {
      "name": "python",
      "display_name": "Python (Pyodide)",
      "language": "python"
    },
    "language_info": {
      "codemirror_mode": {
        "name": "python",
        "version": 3
      },
      "file_extension": ".py",
      "mimetype": "text/x-python",
      "name": "python",
      "nbconvert_exporter": "python",
      "pygments_lexer": "ipython3",
      "version": "3.8"
    }
  },
  "nbformat_minor": 4,
  "nbformat": 4,
  "cells": [
    {
      "cell_type": "markdown",
      "source": "### Relational databases",
      "metadata": {}
    },
    {
      "cell_type": "markdown",
      "source": "## SQLite\n### Import sqlite3 and connect to the database",
      "metadata": {}
    },
    {
      "cell_type": "code",
      "source": "import sqlite3 as sql\n\n# create a connection to the DB\n# if the DB does not exist, it will be created\n# verify that after this statement you now have the DB file on your system\nconn = sql.connect('sqlite_demo.db')",
      "metadata": {},
      "outputs": [],
      "execution_count": null
    },
    {
      "cell_type": "code",
      "source": "# get a cursor to the connection\ncur = conn.cursor()",
      "metadata": {},
      "outputs": [],
      "execution_count": null
    },
    {
      "cell_type": "markdown",
      "source": "### Create some tables and perform basic operations",
      "metadata": {}
    },
    {
      "cell_type": "code",
      "source": "# create two tables\ncur.execute('''DROP TABLE IF EXISTS Students;''')\ncur.execute('''CREATE TABLE Students(\n                id INTEGER PRIMARY KEY,\n                first_name TEXT NOT NULL,\n                last_name TEXT NOT NULL,\n                age INTEGER,\n                email TEXT NOT NULL UNIQUE);\n            ''')\ncur.execute('''DROP TABLE IF EXISTS Student_courses;''')\ncur.execute('''CREATE TABLE Student_courses(\n                id INTEGER PRIMARY KEY,\n                student_id INTEGER NOT NULL,\n                course_id INTEGER,\n                course_name TEXT NOT NULL,\n                FOREIGN KEY(student_id) REFERENCES Student(id));\n            ''')\n\n# commit the changes to the DB\nconn.commit()",
      "metadata": {},
      "outputs": [],
      "execution_count": null
    },
    {
      "cell_type": "code",
      "source": "# insert a row\ncur.execute('''INSERT INTO Students\n                VALUES (1, 'John', 'Doe', 21, 'john@doe.com');''')",
      "metadata": {},
      "outputs": [],
      "execution_count": null
    },
    {
      "cell_type": "code",
      "source": "# insert the SAME row again. It should fail because id is defined as a primary key.\ncur.execute('''INSERT INTO Students\n                VALUES (1, 'John', 'Doe', 21, 'john@doe.com');''')",
      "metadata": {},
      "outputs": [],
      "execution_count": null
    },
    {
      "cell_type": "code",
      "source": "# delete a record\ncur.execute('''DELETE FROM Students WHERE id=1;''')",
      "metadata": {},
      "outputs": [],
      "execution_count": null
    },
    {
      "cell_type": "code",
      "source": "# create a tuple with the students\nthe_students = (\n    (1, 'John', 'Doe', 21, 'john@doe.com'),\n    (2, 'Alice', 'Doe', 22, 'alice@doe.com'),\n    (3, 'Rose', 'Short', 21, 'rose@short.com')\n)\n\n# and a tuple with the courses they follow\nthe_courses = (\n    (1, 3, 102, 'BDB'),\n    (2, 1, 110, 'BDP1'),\n    (3, 3, 110, 'BDP1')\n)\n\n# now use executemany to insert the values into the tables\ncur.executemany('''INSERT INTO Students VALUES(?, ?, ?, ?, ?)''', the_students)\ncur.executemany('''INSERT INTO Student_courses VALUES(?, ?, ?, ?)''', the_courses)",
      "metadata": {},
      "outputs": [],
      "execution_count": null
    },
    {
      "cell_type": "markdown",
      "source": "### Remember to call commit() after altering the DB\nUntil you call commit() on a certain connection, the operations you have performed have *not* been written to disk.",
      "metadata": {}
    },
    {
      "cell_type": "code",
      "source": "conn.commit()",
      "metadata": {},
      "outputs": [],
      "execution_count": null
    },
    {
      "cell_type": "markdown",
      "source": "### Query SQLite",
      "metadata": {}
    },
    {
      "cell_type": "code",
      "source": "cur.execute('SELECT * FROM Students')",
      "metadata": {},
      "outputs": [],
      "execution_count": null
    },
    {
      "cell_type": "code",
      "source": "print(cur.fetchall())",
      "metadata": {},
      "outputs": [],
      "execution_count": null
    },
    {
      "cell_type": "code",
      "source": "# if you call fetchall() again, you will get an empty list\nprint(cur.fetchall())",
      "metadata": {},
      "outputs": [],
      "execution_count": null
    },
    {
      "cell_type": "code",
      "source": "cur.execute('SELECT * FROM Student_courses')",
      "metadata": {},
      "outputs": [],
      "execution_count": null
    },
    {
      "cell_type": "code",
      "source": "print(cur.fetchall())",
      "metadata": {},
      "outputs": [],
      "execution_count": null
    },
    {
      "cell_type": "code",
      "source": "# select records based on some condition\ncur.execute('SELECT * FROM Students WHERE id=3')\nprint(cur.fetchall())",
      "metadata": {},
      "outputs": [],
      "execution_count": null
    },
    {
      "cell_type": "markdown",
      "source": "### Closing the connection\nRemember to close a connection when you are done operating with the DB.",
      "metadata": {}
    },
    {
      "cell_type": "code",
      "source": "conn.close()",
      "metadata": {},
      "outputs": [],
      "execution_count": null
    },
    {
      "cell_type": "markdown",
      "source": "### Catching exceptions",
      "metadata": {}
    },
    {
      "cell_type": "code",
      "source": "# a better way to handle sqlite calls in python\ntry:\n    conn = sql.connect('sqlite_demo.db')\n    cur = conn.cursor()\n    print(\"Connection successful\")\n    # put here all your DB processing stuff - do not forget to commit after changes to the db\n    cur.execute('SELECT * FROM Students')\n    print(cur.fetchall())\n    # closing a _cursor_ is a good idea to reclaim memory\n    cur.close()\nexcept sql.Error as error:\n    print(\"Error in SQLite:\", error)\nfinally:\n    # whatever happens, close the connection\n    conn.close()",
      "metadata": {},
      "outputs": [],
      "execution_count": null
    },
    {
      "cell_type": "markdown",
      "source": "## Perform data analysis with pandas\n\nFirst, copy the sample data set from GitHub and to put it in your directory.\n\n### Import the SQLite DB into a pandas dataframe",
      "metadata": {}
    },
    {
      "cell_type": "code",
      "source": "import pandas as pd\nconn = sql.connect('gubbio_env_2018.sqlite')\ndf = pd.read_sql_query('SELECT * FROM gubbio', conn)\ndf.info()",
      "metadata": {},
      "outputs": [],
      "execution_count": null
    },
    {
      "cell_type": "code",
      "source": "df.head()",
      "metadata": {},
      "outputs": [],
      "execution_count": null
    },
    {
      "cell_type": "markdown",
      "source": "### Using df.loc[]",
      "metadata": {}
    },
    {
      "cell_type": "code",
      "source": "# use loc to select data based on the index, like this:\ndf.loc[1:2]",
      "metadata": {},
      "outputs": [],
      "execution_count": null
    },
    {
      "cell_type": "code",
      "source": "# use loc to select data based on some condition:\nprint(df.loc[df.NO2<0, 'NO2'])",
      "metadata": {},
      "outputs": [],
      "execution_count": null
    },
    {
      "cell_type": "code",
      "source": "# if you omit the second argument to loc[], you will get all columns\nprint(df.loc[df['NO2']<0])",
      "metadata": {},
      "outputs": [],
      "execution_count": null
    },
    {
      "cell_type": "code",
      "source": "# use loc[] to set the environmental readings to 0 if they are negative\n\ndf.loc[df.NO2<0, 'NO2'] = 0\ndf.loc[df.O3<0, 'O3'] = 0\ndf.loc[df.PM10<0, 'PM10'] = 0\ndf.loc[df.PM25<0, 'PM25'] = 0",
      "metadata": {},
      "outputs": [],
      "execution_count": null
    },
    {
      "cell_type": "code",
      "source": "# verify that now there are no NO2 readings < 0\nprint(df.loc[df.NO2<0, 'NO2'])",
      "metadata": {},
      "outputs": [],
      "execution_count": null
    },
    {
      "cell_type": "markdown",
      "source": "### Augmenting and plotting data",
      "metadata": {}
    },
    {
      "cell_type": "code",
      "source": "# an example of how the to_datetime function works,\n# applied to the year, month, day, and hour columns.\n# datetime creates a series of values:\npd.to_datetime(df[['year', 'month', 'day', 'hour']])",
      "metadata": {},
      "outputs": [],
      "execution_count": null
    },
    {
      "cell_type": "code",
      "source": "# add a 'timerep' columns of type \"datetime\"\n# combining the year, month, day, hour columns of the dataframe.\n# check that it was created:\ndf['timerep'] = pd.to_datetime(df[['year', 'month', 'day', 'hour']])\ndf.head()",
      "metadata": {},
      "outputs": [],
      "execution_count": null
    },
    {
      "cell_type": "code",
      "source": "# this is the current data frame:\ndf.info()",
      "metadata": {},
      "outputs": [],
      "execution_count": null
    },
    {
      "cell_type": "code",
      "source": "# set the timerep column to be an index\n# look what the dataframe looks like:\ndf.set_index('timerep', inplace=True)\ndf.info()",
      "metadata": {},
      "outputs": [],
      "execution_count": null
    },
    {
      "cell_type": "code",
      "source": "# now plot data\ndf.plot(y=['NO2'])\ndf.plot(y=['O3'])",
      "metadata": {},
      "outputs": [],
      "execution_count": null
    },
    {
      "cell_type": "markdown",
      "source": "### Resampling data",
      "metadata": {}
    },
    {
      "cell_type": "code",
      "source": "# how resample() works, aggregating by day, then computing the mean of the resampled values for some columns.\ndf.resample('D').mean()[['PM10','PM25','NO2']]",
      "metadata": {},
      "outputs": [],
      "execution_count": null
    },
    {
      "cell_type": "code",
      "source": "# this however is not correct, because the mean takes into account also the 0 values we had introduced.\n# therefore create and operate on a new data frame, and use np.nan (from numpy) to replace negative values.\n\nimport numpy as np\nconn = sql.connect('gubbio_env_2018.sqlite')\ndf_new = pd.read_sql_query('SELECT * FROM gubbio', conn)\n# replace negative values with np.nan\ndf_new.loc[df_new.NO2<0, 'NO2'] = np.nan\ndf_new.loc[df_new.O3<0, 'O3'] = np.nan\ndf_new.loc[df_new.PM10<0, 'PM10'] = np.nan\ndf_new.loc[df_new.PM25<0, 'PM25'] = np.nan\n# add the timerep column\ndf_new['timerep'] = pd.to_datetime(df_new[['year', 'month', 'day', 'hour']])\n# set timerep to be the index\ndf_new.set_index('timerep', inplace=True)\n# now resample data\ndf_new.resample('D').mean()[['PM10','PM25','NO2']]",
      "metadata": {},
      "outputs": [],
      "execution_count": null
    },
    {
      "cell_type": "code",
      "source": "# find all days where PM10>50. The following line does the following:\n# 1) resample by day\n# 2) take the mean\n# 3) perform a query with the condition to get only the rows where the PM10 value is > 50\n# 4) show only the PM10 column\ndf_new.resample('D').mean().query('PM10>50')[['PM10']]",
      "metadata": {},
      "outputs": [],
      "execution_count": null
    },
    {
      "cell_type": "code",
      "source": "# find all days where PM25>24\ndf_new.resample('D').mean().query('PM25>24')[['PM25']]",
      "metadata": {},
      "outputs": [],
      "execution_count": null
    },
    {
      "cell_type": "code",
      "source": "# you could also save the days where PM25>24 to a dictionary:\nbad_pm25 = df_new.resample('D').mean().query('PM25>24').to_dict()\nbad_pm25['PM25']",
      "metadata": {},
      "outputs": [],
      "execution_count": null
    },
    {
      "cell_type": "code",
      "source": "# find the yearly PM10 mean: resample by year, using the argument 'A'\ndf_new.resample('A').mean()[['PM10']]",
      "metadata": {},
      "outputs": [],
      "execution_count": null
    },
    {
      "cell_type": "code",
      "source": "# get just the first entry:\ndf_new.resample('A').mean()[['PM10']].head(1)",
      "metadata": {},
      "outputs": [],
      "execution_count": null
    },
    {
      "cell_type": "code",
      "source": "# or, you could use loc to get the same\ndf_new.resample('A').mean().loc['2018-12-31']",
      "metadata": {},
      "outputs": [],
      "execution_count": null
    },
    {
      "cell_type": "code",
      "source": "# and you could get just the PM10 value with\ndf_new.resample('A').mean().loc['2018-12-31'].at['PM10']",
      "metadata": {},
      "outputs": [],
      "execution_count": null
    },
    {
      "cell_type": "code",
      "source": "# find the yearly PM25 mean, resampling by year\ndf_new.resample('A').mean()[['PM25']]",
      "metadata": {},
      "outputs": [],
      "execution_count": null
    },
    {
      "cell_type": "code",
      "source": "# again, let's get just the first entry:\ndf_new.resample('A').mean()[['PM25']].head(1)",
      "metadata": {},
      "outputs": [],
      "execution_count": null
    },
    {
      "cell_type": "markdown",
      "source": "### Saving to SQLite and reading the DB back",
      "metadata": {
        "tags": []
      }
    },
    {
      "cell_type": "code",
      "source": "# close the previous connection before moving on.\nconn.close()",
      "metadata": {},
      "outputs": [],
      "execution_count": null
    },
    {
      "cell_type": "code",
      "source": "# write the data frame to a new SQLite database\nconn = sql.connect('gubbio_env_2018_custom.sqlite')\ndf.to_sql('gubbio', conn, if_exists='replace')\nconn.close()",
      "metadata": {},
      "outputs": [],
      "execution_count": null
    },
    {
      "cell_type": "code",
      "source": "# read it back\nconn = sql.connect('gubbio_env_2018_custom.sqlite')\ndf2 = pd.read_sql('SELECT * FROM gubbio', conn)\nconn.close()",
      "metadata": {},
      "outputs": [],
      "execution_count": null
    },
    {
      "cell_type": "code",
      "source": "# check what the data frame looks like\ndf2.info(memory_usage='deep')",
      "metadata": {},
      "outputs": [],
      "execution_count": null
    },
    {
      "cell_type": "code",
      "source": "# the x-axis does not look right...\ndf2.plot(y=['NO2'])",
      "metadata": {},
      "outputs": [],
      "execution_count": null
    },
    {
      "cell_type": "code",
      "source": "# write the data frame to a new SQLite database again,\n# but this time tell pandas to write an index to the DB\nconn = sql.connect('gubbio_env_2018_custom.sqlite')\ndf.to_sql('gubbio', conn, if_exists='replace', index=True, index_label='timerep')\nconn.close()",
      "metadata": {},
      "outputs": [],
      "execution_count": null
    },
    {
      "cell_type": "code",
      "source": "# read it back, but this time tell pandas that there is\n# an index in the column 'timerep', of type datetime\nconn = sql.connect('gubbio_env_2018_custom.sqlite')\ndf2 = pd.read_sql('SELECT * FROM gubbio', conn, index_col='timerep', parse_dates=['timerep'])\nconn.close()",
      "metadata": {},
      "outputs": [],
      "execution_count": null
    },
    {
      "cell_type": "code",
      "source": "# check what the data frame looks like now\ndf2.info(memory_usage='deep')",
      "metadata": {},
      "outputs": [],
      "execution_count": null
    },
    {
      "cell_type": "code",
      "source": "# the x-axis is now correct\ndf2.plot(y=['NO2'])",
      "metadata": {},
      "outputs": [],
      "execution_count": null
    },
    {
      "cell_type": "code",
      "source": "",
      "metadata": {},
      "outputs": [],
      "execution_count": null
    }
  ]
}