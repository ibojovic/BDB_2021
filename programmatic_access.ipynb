{
  "metadata": {
    "kernelspec": {
      "name": "python",
      "display_name": "Python (Pyodide)",
      "language": "python"
    },
    "language_info": {
      "codemirror_mode": {
        "name": "python",
        "version": 3
      },
      "file_extension": ".py",
      "mimetype": "text/x-python",
      "name": "python",
      "nbconvert_exporter": "python",
      "pygments_lexer": "ipython3",
      "version": "3.8"
    },
    "vscode": {
      "interpreter": {
        "hash": "31f2aee4e71d21fbe5cf8b01ff0e069b9275f58929596ceb00d14d90e3e16cd6"
      }
    }
  },
  "nbformat_minor": 4,
  "nbformat": 4,
  "cells": [
    {
      "cell_type": "markdown",
      "source": "### Programmatic Access to Databases\n\n## Running an external script from Python\n\n Use of the _subprocess_ module.",
      "metadata": {
        "tags": []
      }
    },
    {
      "cell_type": "code",
      "source": "# running an external program (here: 'ls -l') from Python\nimport subprocess\n\nsp = subprocess.run('ls -l', shell=True, capture_output=True, text=True)\nprint(sp.stdout)",
      "metadata": {},
      "outputs": [],
      "execution_count": null
    },
    {
      "cell_type": "markdown",
      "source": "### Running an external program and processing its output\n\nWe have a python program implementing an iterative method to compute the square root of that number, according to the following algorithm ( _Heron's method_):\n\n$$\nx_0 = 1\n\\\\\n\\\\\nx_{n+1} = \\frac{1}{2} (x_n + \\frac{S}{x_n})\n\\\\\n\\\\\n\\sqrt{S} = \\lim_{n \\to \\infty} x_n\n$$\n",
      "metadata": {},
      "attachments": {}
    },
    {
      "cell_type": "code",
      "source": "# compute the square root of the number 23941 with the sqrt_iterative.py program, using 9 iterations\n! python3 sqrt_iterative.py 23941 9",
      "metadata": {},
      "outputs": [],
      "execution_count": null
    },
    {
      "cell_type": "markdown",
      "source": "To capture its output from a Python program use the `subprocess` module:",
      "metadata": {}
    },
    {
      "cell_type": "code",
      "source": "import subprocess\nimport math\n\nnumber = 23941\niterations = 9\n\nsp = subprocess.run('python3 sqrt_iterative.py %s %s' % (number, iterations), shell=True, capture_output=True, text=True)\nresult = float(sp.stdout.strip()) # what happens if the result cannot be converted to a float? try!\n\nprint('After %d iterations, the square root of %d is %f' % (iterations, number, result))\nprint('math.sqrt(%d) returns %f' % (number, math.sqrt(number)))\nprint('The difference with math.sqrt(%d) is %f' % (number, result-math.sqrt(number)))",
      "metadata": {},
      "outputs": [],
      "execution_count": null
    },
    {
      "cell_type": "markdown",
      "source": "## Using the _requests_ module",
      "metadata": {}
    },
    {
      "cell_type": "code",
      "source": "# test the requests module querying Google\nimport requests\nres = requests.get('http://www.google.com')\nprint(res)",
      "metadata": {},
      "outputs": [],
      "execution_count": null
    },
    {
      "cell_type": "code",
      "source": "print(res.status_code)",
      "metadata": {},
      "outputs": [],
      "execution_count": null
    },
    {
      "cell_type": "code",
      "source": "# if the requests call succeeded, print the text that was returned.\nres = requests.get('http://www.google.com')\nif res.status_code == 200:\n    print(res.text)",
      "metadata": {},
      "outputs": [],
      "execution_count": null
    },
    {
      "cell_type": "markdown",
      "source": "### Check the status code",
      "metadata": {}
    },
    {
      "cell_type": "code",
      "source": "r = requests.get('https://github.com/timelines.json')\nprint(r.status_code)",
      "metadata": {},
      "outputs": [],
      "execution_count": null
    },
    {
      "cell_type": "code",
      "source": "print(r.text)",
      "metadata": {},
      "outputs": [],
      "execution_count": null
    },
    {
      "cell_type": "markdown",
      "source": "### Query PDB using REST calls\n\nWhen the output is returned in JSON format we can easily parse it using normal Python dictionaries and lists.",
      "metadata": {}
    },
    {
      "cell_type": "code",
      "source": "# query the PDB using the REST API. It returns JSON output.\nr = requests.get('https://data.rcsb.org/rest/v1/core/entry/4GYD')\n\n# convert the json return value to a Python dictionary\ndata = r.json()\n\n# check it is indeed a dictionary\ntype(data)",
      "metadata": {},
      "outputs": [],
      "execution_count": null
    },
    {
      "cell_type": "code",
      "source": "# since 'data' is a dictionary, check what are its keys:\ndata.keys()",
      "metadata": {},
      "outputs": [],
      "execution_count": null
    },
    {
      "cell_type": "code",
      "source": "# get info from the 'cell' key:\ndata['cell']",
      "metadata": {},
      "outputs": [],
      "execution_count": null
    },
    {
      "cell_type": "code",
      "source": "# get info for polymer entity data, providing PDB ID and polymer ID:\nr = requests.get('https://data.rcsb.org/rest/v1/core/polymer_entity/4GYD/1')\ndata = r.json()\ndata.keys()",
      "metadata": {},
      "outputs": [],
      "execution_count": null
    },
    {
      "cell_type": "code",
      "source": "# see what's inside the 'entity_poly' key:\ndata['entity_poly']",
      "metadata": {},
      "outputs": [],
      "execution_count": null
    },
    {
      "cell_type": "code",
      "source": "# get annotations\nr2 = requests.get('https://data.rcsb.org/rest/v1/core/pubmed/4GYD')\ndata2 = r2.json()\ndata2.keys()",
      "metadata": {},
      "outputs": [],
      "execution_count": null
    },
    {
      "cell_type": "code",
      "source": "# this is the pubmed abstract:\ndata2['rcsb_pubmed_abstract_text']",
      "metadata": {
        "scrolled": true
      },
      "outputs": [],
      "execution_count": null
    },
    {
      "cell_type": "markdown",
      "source": "### Chemical component",
      "metadata": {}
    },
    {
      "cell_type": "code",
      "source": "r = requests.get('https://data.rcsb.org/rest/v1/core/chemcomp/CFF')\ndata = r.json()",
      "metadata": {},
      "outputs": [],
      "execution_count": null
    },
    {
      "cell_type": "code",
      "source": "data.keys()",
      "metadata": {},
      "outputs": [],
      "execution_count": null
    },
    {
      "cell_type": "code",
      "source": "data['chem_comp']",
      "metadata": {},
      "outputs": [],
      "execution_count": null
    },
    {
      "cell_type": "markdown",
      "source": "### Drug Bank",
      "metadata": {}
    },
    {
      "cell_type": "code",
      "source": "r = requests.get('https://data.rcsb.org/rest/v1/core/drugbank/CFF')\ndata = r.json()\ndata.keys()",
      "metadata": {},
      "outputs": [],
      "execution_count": null
    },
    {
      "cell_type": "code",
      "source": "data['drugbank_info'].keys()",
      "metadata": {},
      "outputs": [],
      "execution_count": null
    },
    {
      "cell_type": "code",
      "source": "data['drugbank_info']['description']",
      "metadata": {},
      "outputs": [],
      "execution_count": null
    },
    {
      "cell_type": "code",
      "source": "data['drugbank_info']['indication']",
      "metadata": {},
      "outputs": [],
      "execution_count": null
    },
    {
      "cell_type": "markdown",
      "source": "### Processing multiple files",
      "metadata": {}
    },
    {
      "cell_type": "code",
      "source": "protein_ids = ['4GYD', '4H0J', '4H0K']\n\nprotein_dict = dict()\nfor protein in protein_ids:\n    r = requests.get('https://data.rcsb.org/rest/v1/core/entry/%s' % protein)\n    data = r.json()\n    protein_dict[protein] = data['cell']\n\n# now print e.g. length_a, length_b and length_c for all the proteins:\nfor (key,value) in protein_dict.items():\n    print('Protein %s: a=%f, b=%f, c=%f' % (key, value['length_a'], value['length_b'], value['length_c']))",
      "metadata": {},
      "outputs": [],
      "execution_count": null
    },
    {
      "cell_type": "markdown",
      "source": "### Getting sequence data in FASTA format\n\nIn this case the output is returned as regular text, not JSON-formatted.",
      "metadata": {}
    },
    {
      "cell_type": "code",
      "source": "# print FASTA data for some proteins\nprotein_ids = ['4GYD', '4H0J', '4H0K']\n\nfor protein in protein_ids:\n    r = requests.get('https://www.rcsb.org/fasta/entry/%s/download' % protein)\n    print(r.text)",
      "metadata": {},
      "outputs": [],
      "execution_count": null
    },
    {
      "cell_type": "markdown",
      "source": "## The PDB Search API",
      "metadata": {}
    },
    {
      "cell_type": "code",
      "source": "fasta = \"MTEYKLVVVGAGGVGKSALTIQLIQNHFVDEYDPTIEDSYRKQVVIDGETCLLDILDTAGQEEYSAMRDQYMRTGEGFLCVFAINNTKSFEDIHQYREQIKRVKDSDDVPMVLVGNKCDLPARTVETRQAQDLARSYGIPYIETSAKTRQGVEDAFYTLVREIRQHKLRKLNPPDESGPGCMNCKCVIS\"\n\nmy_query = '''{\n  \"query\": {\n    \"type\": \"terminal\",\n    \"service\": \"sequence\",\n    \"parameters\": {\n      \"evalue_cutoff\": 1,\n      \"identity_cutoff\": 0.9,\n      \"sequence_type\": \"protein\",\n      \"value\": \"%s\"\n    }\n  },\n  \"request_options\": {\n    \"scoring_strategy\": \"sequence\"\n  },\n  \"return_type\": \"polymer_entity\"\n}\n''' % fasta\n\nr = requests.get('http://search.rcsb.org/rcsbsearch/v2/query?json=%s' % requests.utils.requote_uri(my_query))\nj = r.json()",
      "metadata": {},
      "outputs": [],
      "execution_count": null
    },
    {
      "cell_type": "code",
      "source": "print(j.keys())",
      "metadata": {},
      "outputs": [],
      "execution_count": null
    },
    {
      "cell_type": "code",
      "source": "# print the results:\nprint(\"We got %s matches\" % j['total_count'])\nprint(\"The first %s results follow:\" % len(j['result_set']))\nfor item in j['result_set']:\n    print(item['identifier'], \"score =\", item['score'])",
      "metadata": {},
      "outputs": [],
      "execution_count": null
    },
    {
      "cell_type": "code",
      "source": "# a sequence motif search\n# we use here the Zinc finger Cys2His2-like fold group\n# its PROSITE signature is available at https://prosite.expasy.org/PS00028\nmy_query = '''\n{\n  \"query\": {\n    \"type\": \"terminal\",\n    \"service\": \"seqmotif\",\n    \"parameters\": {\n      \"value\": \"C-x(2,4)-C-x(3)-[LIVMFYWC]-x(8)-H-x(3,5)-H\",\n      \"pattern_type\": \"prosite\",\n      \"sequence_type\": \"protein\"\n    }\n  },\n  \"return_type\": \"polymer_entity\"\n}\n'''\nr = requests.get('http://search.rcsb.org/rcsbsearch/v2/query?json=%s' % requests.utils.requote_uri(my_query))\nj = r.json()",
      "metadata": {},
      "outputs": [],
      "execution_count": null
    },
    {
      "cell_type": "code",
      "source": "j.keys()",
      "metadata": {},
      "outputs": [],
      "execution_count": null
    },
    {
      "cell_type": "code",
      "source": "print(\"There are %s results in total, we got back details for the first %s\" % \n      (j['total_count'], len(j['result_set'])))",
      "metadata": {},
      "outputs": [],
      "execution_count": null
    },
    {
      "cell_type": "code",
      "source": "print('This is the detailed info for the first result:')\nprint(j['result_set'][0])\nprint('\\nThe identifiers for the returned results are:')\nfor item in j['result_set']:\n    print(item['identifier'])",
      "metadata": {},
      "outputs": [],
      "execution_count": null
    },
    {
      "cell_type": "markdown",
      "source": "## GraphQL ",
      "metadata": {}
    },
    {
      "cell_type": "code",
      "source": "# a GraphQL query\nmy_query = '''\n{\n    entry(entry_id: \"4GYD\") {\n        cell {\n            Z_PDB\n            angle_alpha\n            angle_beta\n            angle_gamma\n            formula_units_Z\n            length_a\n            length_b\n            length_c\n            pdbx_unique_axis\n            volume\n        }\n    }\n}\n'''\n\nr = requests.get('https://data.rcsb.org/graphql?query=%s' % requests.utils.requote_uri(my_query))\nj = r.json()",
      "metadata": {},
      "outputs": [],
      "execution_count": null
    },
    {
      "cell_type": "code",
      "source": "# check the keys of the dictionary:\nj.keys()",
      "metadata": {},
      "outputs": [],
      "execution_count": null
    },
    {
      "cell_type": "code",
      "source": "# explore what is in j['data']:\nj['data']",
      "metadata": {},
      "outputs": [],
      "execution_count": null
    },
    {
      "cell_type": "code",
      "source": "# print results with some formatting:\nparams = j['data']['entry']['cell']\nfor key,value in params.items():\n    print(key, ':', value)",
      "metadata": {},
      "outputs": [],
      "execution_count": null
    },
    {
      "cell_type": "markdown",
      "source": "## Uniprot",
      "metadata": {}
    },
    {
      "cell_type": "code",
      "source": "# get data from Uniprot using the Proteins API\n# we are returned a list, not a dictionary\nrequestURL = \"https://www.ebi.ac.uk/proteins/api/proteins?offset=0&size=10&accession=P0A3X7&reviewed=true\"\n\n# note that we must specify that we want JSON output using the 'headers' parameter to requests.get()\nr = requests.get(requestURL, headers={\"Accept\" : \"application/json\"})\nj = r.json()\ntype(j)",
      "metadata": {},
      "outputs": [],
      "execution_count": null
    },
    {
      "cell_type": "code",
      "source": "# the returned list holds the entries we asked for\n# there is only one entry:\nlen(j)",
      "metadata": {},
      "outputs": [],
      "execution_count": null
    },
    {
      "cell_type": "code",
      "source": "# this one entry is actually a dictionary:\nj[0]",
      "metadata": {},
      "outputs": [],
      "execution_count": null
    },
    {
      "cell_type": "code",
      "source": "# check the keys of the dictionary j[0]\nj[0].keys()",
      "metadata": {},
      "outputs": [],
      "execution_count": null
    },
    {
      "cell_type": "code",
      "source": "# these are the entries in the key 'dbReferences'\nj[0]['dbReferences']",
      "metadata": {},
      "outputs": [],
      "execution_count": null
    },
    {
      "cell_type": "code",
      "source": "# print the data we were looking for:\nprint(\"Data for accession %s (ID: %s)\" % (j[0]['accession'], j[0]['id']))\nprint(\"List of Gene Ontologies:\")\nfor item in j[0]['dbReferences']:\n    if item['type'] == \"GO\":\n        print(\"  id: %s, term: %s, source: %s\" % (\n                item['id'],\n                item['properties']['term'],\n                item['properties']['source']))\n",
      "metadata": {},
      "outputs": [],
      "execution_count": null
    },
    {
      "cell_type": "markdown",
      "source": "## NCBI",
      "metadata": {}
    },
    {
      "cell_type": "code",
      "source": "headers = {'Accept': 'application/json'}\nr = requests.get('https://api.ncbi.nlm.nih.gov/datasets/v1alpha/gene/id/%s' % 8291, headers=headers)\nj = r.json()\nj",
      "metadata": {},
      "outputs": [],
      "execution_count": null
    },
    {
      "cell_type": "code",
      "source": "gene = j['genes'][0]['gene']\ngene['description']",
      "metadata": {},
      "outputs": [],
      "execution_count": null
    },
    {
      "cell_type": "code",
      "source": "",
      "metadata": {},
      "outputs": [],
      "execution_count": null
    }
  ]
}